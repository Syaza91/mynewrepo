{
 "cells": [
  {
   "cell_type": "markdown",
   "id": "16f1c19d",
   "metadata": {},
   "source": [
    "## Problem 2: Friends, Colleagues, and Details\n",
    "\n",
    "### Skill you're practicing: Using dictionaries, lists, and key-value pairs.\n",
    "\n",
    "Your boss tasks you with creating a company directory. Make a list called `employees`, which will contain one dictionary per person and include the keys `name`, `age`, `department`, `phone`, and `salary`. Once you have the list of dictionaries set up, loop through the list and print out the `name`, `department`, and `phone` number of each employee. Their `age` and `salary` should remain secret!"
   ]
  },
  {
   "cell_type": "code",
   "execution_count": 7,
   "id": "5d7d4551",
   "metadata": {},
   "outputs": [
    {
     "name": "stdout",
     "output_type": "stream",
     "text": [
      "Ron Swanson in Management can be reached at 555-1234\n"
     ]
    }
   ],
   "source": [
    "employees = {\n",
    " \"name1\": \"Ron Swanson\",\n",
    " \"age1\": 55,\n",
    " \"department1\": \"Management\",\n",
    " \"phone1\": \"555-1234\",\n",
    " \"salary1\": \",000\",\n",
    " \"name2\": \"Leslie\",\n",
    " \"age2\": 25,\n",
    " \"department2\": \"Middle Management\",\n",
    " \"phone2\": \"555-4321\",\n",
    " \"salary2\": \",000\", \n",
    " \"name3\": \"Andy Dwyer\",\n",
    " \"age3\": 35,\n",
    " \"department3\": \"Shoe Shining\",\n",
    " \"phone3\": \"555-1122\",\n",
    " \"salary3\": \",000\",\n",
    " \"name4\": \"April Ludgate\",\n",
    " \"age4\": 39,\n",
    " \"department4\": \"Administration\",\n",
    " \"phone4\": \"555-3345\",\n",
    " \"salary4\": \",000\",\n",
    "}\n",
    "\n",
    "len(employees)\n",
    "\n",
    "\n",
    "print(employees['name1'], \"in\", employees['department1'],'can be reached at', employees['phone1'])"
   ]
  },
  {
   "cell_type": "markdown",
   "id": "416f72f7",
   "metadata": {},
   "source": [
    "#Ron Swanson in Management can be reached at 555-1234.\n",
    "#Leslie Knope in Middle Management can be reached at 555-4321.\n",
    "#Andy Dwyer in Shoe Shining can be reached at 555-1122.\n",
    "#April Ludgate in Administration can be reached at 555-3345.\n"
   ]
  }
 ],
 "metadata": {
  "kernelspec": {
   "display_name": "Python 3",
   "language": "python",
   "name": "python3"
  },
  "language_info": {
   "codemirror_mode": {
    "name": "ipython",
    "version": 3
   },
   "file_extension": ".py",
   "mimetype": "text/x-python",
   "name": "python",
   "nbconvert_exporter": "python",
   "pygments_lexer": "ipython3",
   "version": "3.8.8"
  }
 },
 "nbformat": 4,
 "nbformat_minor": 5
}
