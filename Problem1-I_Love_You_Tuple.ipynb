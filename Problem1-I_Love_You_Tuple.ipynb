{
 "cells": [
  {
   "cell_type": "markdown",
   "id": "7977691d",
   "metadata": {},
   "source": [
    "Code Challenges\n",
    "Problem 1: I Love You, Tuple\n",
    "\n",
    "Skill you're practicing: Using tuples.\n",
    "\n",
    "You may recall tuples from your in-class lesson. Tuples are immutable data structures, which\n",
    "means they can't be changed after they're created. They are typically used to store related\n",
    "information that doesn't need to be changed, such as a student record or, in this case, some stats\n",
    "about a movie. It's your job to create some print statements that access the appropriate values\n",
    "inside each tuple to produce the expected output.\n"
   ]
  },
  {
   "cell_type": "code",
   "execution_count": 1,
   "id": "e32b0545",
   "metadata": {},
   "outputs": [],
   "source": [
    "# My favorite romance movies\n",
    "# title, release year, runtime, tagline, main characters\n",
    "\n",
    "romantic_movie1 = (\"The Princess Bride\", 1987, 98, \"The story of a man and a woman who lived happily ever after.\", [\"Buttercup\", \"Westley\", \"Fezzik\", \"Inigo Montoya\",\"Vizzini\"])\n",
    "romantic_movie2 = (\"Groundhog Day\", 1993, 101, \"He's having the day of his life… over and over again.\", [\"Phil Connors\"])\n",
    "romantic_movie3 = (\"Amélie\", 2001, 122, \"One person can change your life forever.\", [\"Amélie Poulain\", \"Nino Quincampoix\", \"The Garden Gnome\"])"
   ]
  },
  {
   "cell_type": "code",
   "execution_count": null,
   "id": "dffb16f5",
   "metadata": {},
   "outputs": [],
   "source": []
  }
 ],
 "metadata": {
  "kernelspec": {
   "display_name": "Python 3",
   "language": "python",
   "name": "python3"
  },
  "language_info": {
   "codemirror_mode": {
    "name": "ipython",
    "version": 3
   },
   "file_extension": ".py",
   "mimetype": "text/x-python",
   "name": "python",
   "nbconvert_exporter": "python",
   "pygments_lexer": "ipython3",
   "version": "3.8.8"
  }
 },
 "nbformat": 4,
 "nbformat_minor": 5
}
